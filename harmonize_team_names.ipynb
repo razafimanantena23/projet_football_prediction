{
 "cells": [
  {
   "cell_type": "code",
   "execution_count": null,
   "id": "1f491324",
   "metadata": {},
   "outputs": [],
   "source": [
    "\n",
    "    ### Define old names and new names\n",
    "\n",
    "    old_chain_23 = [\"Manchester United\", \"Tottenham Hotspur\", \"Newcastle United\", \"Brighton &amp; Hove Albion\", \"Wolverhampton Wanderers\", \"West Ham United\"]\n",
    "    new_chain_23 = [\"Manchester Utd\", \"Tottenham\", \"Newcastle Utd\", \"Brighton\", \"Wolves\", \"West Ham\"]\n",
    "\n",
    "    # Let\"s create a regular expression and use re.escape to escape speficic character\n",
    "    pattern = re.compile(\"|\".join(map(re.escape, old_chain_23)))\n",
    "\n",
    "    # Let's use re.sub to replace the match\n",
    "    championship = pattern.sub(lambda match: new_chain_23[old_chain_23.index(match.group(0))], championship)\n",
    "\n",
    "    ### List of team in 2023 championship \n",
    "    list_team_23= re.findall('data-filtered-table-row-name=\"(.*?)\"', str(championship))\n"
   ]
  },
  {
   "cell_type": "code",
   "execution_count": null,
   "id": "42feff64",
   "metadata": {},
   "outputs": [],
   "source": [
    "\n",
    "    ### Define old names and new names\n",
    "\n",
    "    old_chain_22 = [\"Man. City\",\"Tottenham Hotspur\", \"Man. Utd\", \"Leicester\", \"Brighton &amp; Hove Albion\"]\n",
    "    new_chain_22 = [\"Manchester City\", \"Tottenham\", \"Manchester Utd\", \"Leicester City\", \"Brighton\"]\n",
    "\n",
    "    # Lets create a regular expression and use re.escape to escape speficic character\n",
    "    pattern = re.compile(\"|\".join(map(re.escape, old_chain_22)))\n",
    "\n",
    "    # Let's use re.sub to replace the match\n",
    "    championship = pattern.sub(lambda match: new_chain_22[old_chain_22.index(match.group(0))], championship)\n",
    "\n",
    "    ### List of team in 2022 championship \n",
    "    list_team_22 = re.findall('<span class=\"team-name\">(.*?)</span>', str(championship))\n",
    "    "
   ]
  },
  {
   "cell_type": "code",
   "execution_count": null,
   "id": "0f283a28",
   "metadata": {},
   "outputs": [],
   "source": [
    "    \n",
    "    ### Define old names and new names\n",
    "\n",
    "    old_chain_21 = [\"Man. City\",\"Tottenham Hotspur\", \"Man. Utd\", \"Leicester\", \"Brighton &amp; Hove Albion\", \"West Bromwich Albion\",\n",
    "               \"Sheffield United\"]\n",
    "    new_chain_21 = [\"Manchester City\", \"Tottenham\", \"Manchester Utd\", \"Leicester City\", \"Brighton\", \"West Brom\", \"Sheffield Utd\"]\n",
    "\n",
    "    # Let\"s create a regular expression and use re.escape to escape speficic character\n",
    "    pattern = re.compile(\"|\".join(map(re.escape, old_chain_21)))\n",
    "\n",
    "    # Let's use re.sub to replace the match\n",
    "    championship = pattern.sub(lambda match: new_chain_21[old_chain_21.index(match.group(0))], championship)\n",
    "\n",
    "    ### List of team in 2022 championship \n",
    "    list_team_21 = re.findall('<span class=\"team-name\">(.*?)</span>', str(championship))\n",
    "    "
   ]
  },
  {
   "cell_type": "code",
   "execution_count": null,
   "id": "0dc25aee",
   "metadata": {},
   "outputs": [],
   "source": [
    "    \n",
    "### Define old names and new names\n",
    "\n",
    "old_chain_20 = [\"Man. City\",\"Tottenham Hotspur\", \"Man. Utd\", \"Leicester\", \"Brighton &amp; Hove Albion\", \"AFC Bournemouth\",\n",
    "               \"Sheffield United\"]\n",
    "new_chain_20 = [\"Manchester City\", \"Tottenham\", \"Manchester Utd\", \"Leicester City\", \"Brighton\", \"Bournemouth\", \"Sheffield Utd\"]\n",
    "\n",
    "# Let\"s create a regular expression and use re.escape to escape speficic character\n",
    "pattern = re.compile(\"|\".join(map(re.escape, old_chain_20)))\n",
    "\n",
    "# Let's use re.sub to replace the match\n",
    "Premier_league_20 = pattern.sub(lambda match: new_chain_20[old_chain_20.index(match.group(0))], Premier_league_20)\n",
    "\n",
    "### List of team in 2022 championship \n",
    "list_team_20 = re.findall('<span class=\"team-name\">(.*?)</span>', str(Premier_league_20))"
   ]
  }
 ],
 "metadata": {
  "kernelspec": {
   "display_name": "Python 3 (ipykernel)",
   "language": "python",
   "name": "python3"
  },
  "language_info": {
   "codemirror_mode": {
    "name": "ipython",
    "version": 3
   },
   "file_extension": ".py",
   "mimetype": "text/x-python",
   "name": "python",
   "nbconvert_exporter": "python",
   "pygments_lexer": "ipython3",
   "version": "3.9.13"
  }
 },
 "nbformat": 4,
 "nbformat_minor": 5
}
