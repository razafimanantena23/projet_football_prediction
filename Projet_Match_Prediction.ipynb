{
 "cells": [
  {
   "cell_type": "code",
   "execution_count": null,
   "id": "69093e43",
   "metadata": {},
   "outputs": [],
   "source": [
    "#### Project "
   ]
  },
  {
   "cell_type": "code",
   "execution_count": null,
   "id": "0d000a17",
   "metadata": {},
   "outputs": [],
   "source": [
    "#### Import packages\n",
    "from bs4 import BeautifulSoup\n",
    "import urllib3\n",
    "import re\n",
    "import time\n",
    "from collections import defaultdict\n",
    "import numpy as np\n",
    "import tqdm"
   ]
  },
  {
   "cell_type": "code",
   "execution_count": null,
   "id": "aae1427d",
   "metadata": {},
   "outputs": [],
   "source": [
    "### Let's define the urlpage\n",
    "urlpage = 'https://www.premierleague.com/tables'"
   ]
  },
  {
   "cell_type": "code",
   "execution_count": null,
   "id": "b3b64150",
   "metadata": {},
   "outputs": [],
   "source": [
    "### Let's define a function to get the web page and subtract the part of the html codes we need (function n°1)\n",
    "\n",
    "def get_page(urlpage,element,html_id):\n",
    "    # Get page in html\n",
    "    req = urllib3.PoolManager()\n",
    "    res = req.request('GET', urlpage)\n",
    "    row_html = BeautifulSoup(res.data, 'html.parser')\n",
    "    \n",
    "    # Return elements that matched the html class in a list\n",
    "    All_leagues = row_html.find_all('main' ,id= \"mainContent\")\n",
    "    \n",
    "    #Split All_championnat to get each championship\n",
    "    by_league = str(All_leagues).split('<div class=\"tableCompetitionExplainedContainer\"></div>')\n",
    "    \n",
    "    #Return elements and class for the current championship (2023)\n",
    "    Premier_league_23= by_league[0]\n",
    "    \n",
    "    return Premier_league_23"
   ]
  },
  {
   "cell_type": "code",
   "execution_count": null,
   "id": "e5b4fef3",
   "metadata": {},
   "outputs": [],
   "source": [
    "### Let's test the function n°1\n",
    "\n",
    "Premier_league_23= get_page(urlpage,\n",
    "                        'main', \"mainContent\")\n",
    "print(Premier_league_23)"
   ]
  },
  {
   "cell_type": "code",
   "execution_count": null,
   "id": "07efcb44",
   "metadata": {},
   "outputs": [],
   "source": [
    "#### Let's define a function to get informations on each team (function n°2)\n",
    "\n",
    "def extract_team_stats(Premier_league_23, team):\n",
    "    team_real= team.title()\n",
    "    pattern = r'data-filtered-table-row-name=\"{}\"'.format(team_real)\n",
    "    match = re.search(pattern, Premier_league_23)\n",
    "    start= match.start()\n",
    "    end = Premier_league_23.index('<tr class=\"expandable\"', start)\n",
    "    team_data = Premier_league_23[start:end]\n",
    "    \n",
    "    position = int(re.findall('data-position=\"(.*?)\">', str(team_data))[0])\n",
    "    data =  re.findall(r'<td.*?>(\\d+)<\\/td>', team_data)\n",
    "    match_played =int(data[0].strip('<td>').strip('</td>'))\n",
    "    points = int(re.search(r'<td class=\"points\">\\d+</td>', team_data).group().strip('<td class=\"points\">').strip('</td>'))\n",
    "    wins = int(data[1].strip('<td>').strip('</td>'))\n",
    "    loses = int(data[3].strip('<td>').strip('</td>'))\n",
    "    drawns = int(data[2].strip('<td>').strip('</td>'))\n",
    "    but_marqués= int(data[4].strip('<td>').strip('</td>'))\n",
    "    but_encaissés= int(data[5].strip('<td>').strip('</td>'))\n",
    "\n",
    "    team_stats = {'position': position,'match_played': match_played,'points': points,'victoires': wins,'defaites': loses,'nuls': drawns,'BM': but_marqués,\n",
    "        'BE':but_encaissés\n",
    "    }\n",
    "\n",
    "    return team_stats"
   ]
  },
  {
   "cell_type": "code",
   "execution_count": null,
   "id": "9f55f56f",
   "metadata": {},
   "outputs": [],
   "source": [
    "### Let's test the function n°2\n",
    "\n",
    "extract_team_stats(Premier_league_23, \"manchester city\")"
   ]
  },
  {
   "cell_type": "code",
   "execution_count": null,
   "id": "d8b99bfc",
   "metadata": {},
   "outputs": [],
   "source": []
  },
  {
   "cell_type": "code",
   "execution_count": null,
   "id": "9248f018",
   "metadata": {},
   "outputs": [],
   "source": []
  }
 ],
 "metadata": {
  "kernelspec": {
   "display_name": "Python 3 (ipykernel)",
   "language": "python",
   "name": "python3"
  },
  "language_info": {
   "codemirror_mode": {
    "name": "ipython",
    "version": 3
   },
   "file_extension": ".py",
   "mimetype": "text/x-python",
   "name": "python",
   "nbconvert_exporter": "python",
   "pygments_lexer": "ipython3",
   "version": "3.9.13"
  }
 },
 "nbformat": 4,
 "nbformat_minor": 5
}
