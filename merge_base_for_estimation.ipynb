{
 "cells": [
  {
   "cell_type": "code",
   "execution_count": null,
   "id": "69c4510f",
   "metadata": {},
   "outputs": [],
   "source": [
    "### Function 2b  to get statistics on independant variables for teams\n",
    "def get_X_predict (team, opponent):\n",
    "    teams=[team, opponent]\n",
    "    df_final = x_predict[x_predict[\"team\"].isin(teams)]\n",
    "    df_final[[\"match_played\", \"position\", \"points\", \"wins\", \"loses\",\n",
    "    \"drawns\", \"goals_for\", \"goals_against\"]] = df_final[[\"match_played\", \"position\", \"points\", \"wins\", \"loses\",\n",
    "                                                  \"drawns\", \"goals_for\", \"goals_against\"]].apply(lambda x: x.diff())\n",
    "    df_final= df_final.iloc[1]\n",
    "    df_final = pd.DataFrame(df_final)\n",
    "    df_final = df_final.transpose()\n",
    "    df_final = df_final.rename(columns={'team': 'opponent'})\n",
    "    df_final['team'] = teams[0]\n",
    "    df_final['stadium'] = stadium\n",
    "    df_final= df_final.set_index([\"year\", \"team\", \"opponent\"])\n",
    "    var_order = ['stadium','match_played', 'position', 'points', \n",
    "                 'wins', 'loses', 'drawns', 'goals_for', 'goals_against']\n",
    "    X_predict = df_final.reindex(columns = var_order)          \n",
    "      \n",
    "    return X_predict\n",
    "\n",
    "X_predict = get_X_predict (team_name, opponent_name)"
   ]
  },
  {
   "cell_type": "code",
   "execution_count": null,
   "id": "924d4aae",
   "metadata": {},
   "outputs": [],
   "source": [
    "# Let's put the years considered\n",
    "years = [2020, 2021, 2022]\n",
    "\n",
    "# Let's create a list of dataframe\n",
    "results = [team_matches_20, team_matches_21, team_matches_22]\n",
    "\n",
    "# And let's apply the transformattion for each dataframe \n",
    "for i, results_frame in enumerate(results):\n",
    "    results_frame['stadium'] = results_frame['stadium'].replace({'away': 0, 'home': 1})\n",
    "    results_frame['year'] = years[i]\n",
    "    results_frame = results_frame.reindex(columns=['year', 'team', 'opponent', 'stadium', 'result_team'])\n",
    "    results[i] = results_frame\n",
    "\n",
    "# Concaténation des dataframes\n",
    "y_stats = pd.concat(results)\n",
    "\n",
    "#### Let's combine team statistics on independant variables into a same dataframe for X train\n",
    "x_stats = pd.concat([data_on_stats_20, data_on_stats_21, data_on_stats_22])\n"
   ]
  },
  {
   "cell_type": "code",
   "execution_count": null,
   "id": "932a8fae",
   "metadata": {},
   "outputs": [],
   "source": [
    "#### Let's combine all training data in a single dataframe\n",
    "\n",
    "y_stats.reset_index(drop=True) ## drop y_train index\n",
    "y_stats.set_index(['year','team']) ## Set two new index\n",
    "x_stats.set_index(['year','team']) ## Set two new index\n",
    "\n",
    "base_train = pd.merge(y_stats, x_stats, how= 'inner', on = ['year', 'team'])  ## merge y_stats and x_stats for team statistics\n",
    "\n",
    "base_train = base_train.rename(columns={'team':'opponent', 'opponent': 'team' }) ## rename columns for a second merge\n",
    "base_train = pd.merge(base_train, x_stats, how= 'inner', on = ['year', 'team'])  ## merge base_train and x_stats for opponent stats\n",
    "\n",
    "base_train = base_train.rename(columns={'opponent':'team', 'team': 'opponent' }) ## rename in as original data"
   ]
  },
  {
   "cell_type": "code",
   "execution_count": null,
   "id": "cac9a240",
   "metadata": {},
   "outputs": [],
   "source": [
    "#### Let's create the difference variables for independant variables  \n",
    "base_train_2 = base_train.assign(match_played= base_train['match_played_y']- base_train['match_played_x'],\n",
    "                                position= base_train['position_y']- base_train['position_x'], \n",
    "                                points= base_train['points_y'] - base_train['points_x'],\n",
    "                                wins= base_train['wins_y'] - base_train['wins_x'],\n",
    "                                loses= base_train['loses_y'] - base_train['loses_x'],\n",
    "                                drawns= base_train['drawns_y'] - base_train['drawns_x'],\n",
    "                                goals_for= base_train['goals_for_y'] - base_train['goals_for_x'],\n",
    "                                goals_against= base_train['goals_against_y'] - base_train['goals_against_x'])\n",
    "\n",
    "#### Create new dataframe for difference variables\n",
    "base_esti = base_train_2.loc[:, [\"year\", \"team\", \"opponent\", \"result_team\", \"stadium\", \"match_played\", \"position\", \n",
    "                                 \"points\", \"wins\", \"loses\", \"drawns\", \"goals_for\", \"goals_against\"]]\n",
    "\n",
    "## Create the final training dataframe putting year, team and opponent variables in index\n",
    "base_training= base_esti.set_index([\"year\", \"team\", \"opponent\"])"
   ]
  }
 ],
 "metadata": {
  "kernelspec": {
   "display_name": "Python 3 (ipykernel)",
   "language": "python",
   "name": "python3"
  },
  "language_info": {
   "codemirror_mode": {
    "name": "ipython",
    "version": 3
   },
   "file_extension": ".py",
   "mimetype": "text/x-python",
   "name": "python",
   "nbconvert_exporter": "python",
   "pygments_lexer": "ipython3",
   "version": "3.9.13"
  }
 },
 "nbformat": 4,
 "nbformat_minor": 5
}
