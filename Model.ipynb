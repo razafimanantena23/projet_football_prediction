{
 "cells": [
  {
   "cell_type": "code",
   "execution_count": null,
   "id": "b442b098",
   "metadata": {},
   "outputs": [],
   "source": [
    "# Divised base_training in training and test data\n",
    "X = base_training.drop([\"result_team\"], axis=1)\n",
    "y = base_training[\"result_team\"]\n",
    "\n",
    "X_train, X_test, y_train, y_test = train_test_split(X, y, test_size=0.11, random_state=42)"
   ]
  },
  {
   "cell_type": "code",
   "execution_count": null,
   "id": "6bd7ec15",
   "metadata": {},
   "outputs": [],
   "source": [
    "#### Create a multinomial model \n",
    "model = LogisticRegression(multi_class='multinomial', solver='lbfgs')\n",
    "model.fit(X_train, y_train)\n",
    "y_pred = model.predict(X_test)\n",
    "accuracy = accuracy_score(y_test, y_pred)"
   ]
  },
  {
   "cell_type": "code",
   "execution_count": null,
   "id": "fd290d6a",
   "metadata": {},
   "outputs": [],
   "source": [
    "### Let's get the probability for the result of team\n",
    "probability = model.predict_proba(X_predict)\n",
    "percentages = [p*100 for p in probability]\n",
    "class_names = model.classes_\n",
    "print (percentages, class_names)"
   ]
  },
  {
   "cell_type": "code",
   "execution_count": null,
   "id": "3364367b",
   "metadata": {},
   "outputs": [],
   "source": [
    "# Color list for each class (drawn, lose and win)\n",
    "colors = ['C0', 'C4', 'C2'] ## note C0 for blue, C4 for red and C2 for green\n",
    "\n",
    "fig, ax = plt.subplots() # Create a figure with a single subplot\n",
    "\n",
    "# Set the aspect ratio of the subplot to be equal, so that it becomes a circle\n",
    "ax.set_aspect('equal')\n",
    "\n",
    "# Limits of the plot (-1 to 1)\n",
    "ax.set_xlim(-1, 1)\n",
    "ax.set_ylim(-1, 1)\n",
    "\n",
    "# Angle for the first wedge (wedge for probability)\n",
    "current_angle = 0\n",
    "\n",
    "# Loop through each class and create a wedge with the corresponding color\n",
    "for i in range(len(class_names)):\n",
    "    \n",
    "    current_prob = probability[0][i]  # Get the probability for the current class\n",
    "    \n",
    "    current_angle += current_prob * 360  # Calculate the angle\n",
    "    \n",
    "    # Create a wedge with the start and end angles and the corresponding color\n",
    "    wedge = patches.Wedge((0, 0), 1, current_angle - current_prob * 360, current_angle, edgecolor='black', facecolor=colors[i], alpha=0.8)\n",
    "    \n",
    "    ax.add_patch(wedge) # Add the wedge to the subplot\n",
    "\n",
    "# Add a legend to the plot \n",
    "ax.legend(labels=[f\"{class_names[i]} ({percentages[0][i]:.2f}%)\" for i in range(len(class_names))], loc='center left')\n",
    "\n",
    "fig.suptitle(f\"The Probabilities of the different outcomes of {team_name} \") ### Add a title \n",
    "\n",
    "plt.show() # Display the plot"
   ]
  }
 ],
 "metadata": {
  "kernelspec": {
   "display_name": "Python 3 (ipykernel)",
   "language": "python",
   "name": "python3"
  },
  "language_info": {
   "codemirror_mode": {
    "name": "ipython",
    "version": 3
   },
   "file_extension": ".py",
   "mimetype": "text/x-python",
   "name": "python",
   "nbconvert_exporter": "python",
   "pygments_lexer": "ipython3",
   "version": "3.9.13"
  }
 },
 "nbformat": 4,
 "nbformat_minor": 5
}
