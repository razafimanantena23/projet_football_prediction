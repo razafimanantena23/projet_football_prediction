{
 "cells": [
  {
   "cell_type": "code",
   "execution_count": null,
   "id": "ca507e3f",
   "metadata": {},
   "outputs": [],
   "source": [
    "#### Let's users give their information on the match to be predicted \n",
    "team_name = str(input(\"Enter the team name with the first letter in capital (Arsenal for example): \"))\n",
    "opponent_name = str(input(\"Enter the oppopnent name with the first letter in capital: \"))\n",
    "stadium = str(input(\"Enter 1 if team play the match at home and 0 else: \"))"
   ]
  },
  {
   "cell_type": "code",
   "execution_count": null,
   "id": "6555bbfd",
   "metadata": {},
   "outputs": [],
   "source": [
    "#### Import packages\n",
    "\n",
    "from bs4 import BeautifulSoup\n",
    "import urllib3\n",
    "import re\n",
    "import time\n",
    "from collections import defaultdict\n",
    "import numpy as np\n",
    "import tqdm\n",
    "import pandas as pd\n",
    "from sklearn.linear_model import LogisticRegression\n",
    "from sklearn.model_selection import train_test_split\n",
    "from sklearn.metrics import accuracy_score\n",
    "import matplotlib.pyplot as plt\n",
    "import matplotlib.patches as patches"
   ]
  }
 ],
 "metadata": {
  "kernelspec": {
   "display_name": "Python 3 (ipykernel)",
   "language": "python",
   "name": "python3"
  },
  "language_info": {
   "codemirror_mode": {
    "name": "ipython",
    "version": 3
   },
   "file_extension": ".py",
   "mimetype": "text/x-python",
   "name": "python",
   "nbconvert_exporter": "python",
   "pygments_lexer": "ipython3",
   "version": "3.9.13"
  }
 },
 "nbformat": 4,
 "nbformat_minor": 5
}
