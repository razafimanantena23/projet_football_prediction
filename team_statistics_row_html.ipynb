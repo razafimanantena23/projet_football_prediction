{
 "cells": [
  {
   "cell_type": "code",
   "execution_count": null,
   "id": "08ee1f6d",
   "metadata": {},
   "outputs": [],
   "source": [
    "### Let's define a function to get the web page and subtract the part of the html codes we need (function n°1)\n",
    "\n",
    "def get_page(urlpage_1,element,html_id):\n",
    "    # Get page in html\n",
    "    req = urllib3.PoolManager()\n",
    "    res = req.request('GET', urlpage_1)\n",
    "    row_html = BeautifulSoup(res.data, 'html.parser')\n",
    "    \n",
    "    # Return elements that matched the html class in a list\n",
    "    All_leagues = row_html.find_all('main' ,id= \"mainContent\")\n",
    "    \n",
    "    #Split All_championnat to get each championship\n",
    "    by_league = str(All_leagues).split('<div class=\"tableCompetitionExplainedContainer\"></div>')\n",
    "    \n",
    "    #Return elements and class for the current championship (2023)\n",
    "    Premier_league_23= by_league[0]\n",
    "    \n",
    "    return Premier_league_23\n",
    "\n",
    "Premier_league_23= get_page(urlpage_1,\n",
    "                        'main', \"mainContent\")"
   ]
  },
  {
   "cell_type": "code",
   "execution_count": null,
   "id": "057fe754",
   "metadata": {},
   "outputs": [],
   "source": [
    "### Let's define a function to get the web page and subtract the part of the html codes we need (function n°3)\n",
    "\n",
    "def get_page(urlpage_2,element,html_class):\n",
    "    # Get page in html\n",
    "    req_3 = urllib3.PoolManager()\n",
    "    res_3 = req_3.request('GET', urlpage_2)\n",
    "    row_html_3 = BeautifulSoup(res_3.data, 'html.parser')\n",
    "    \n",
    "    # Return elements that matched the html class in a list\n",
    "    Premier_league_22 = row_html_3.find_all(element , class_= html_class)\n",
    "    return(Premier_league_22)\n",
    "\n",
    "Premier_league_22= str(get_page(urlpage_2, 'tr', 'row-body'))"
   ]
  },
  {
   "cell_type": "code",
   "execution_count": null,
   "id": "3114d3f3",
   "metadata": {},
   "outputs": [],
   "source": [
    "### Let's define a function to get the web page and subtract the part of the html codes we need (function n°2)\n",
    "\n",
    "def get_page(urlpage_2,element,html_class):\n",
    "    # Get page in html\n",
    "    req_3 = urllib3.PoolManager()\n",
    "    res_3 = req_3.request('GET', urlpage_2)\n",
    "    row_html_3 = BeautifulSoup(res_3.data, 'html.parser')\n",
    "    \n",
    "    # Return elements that matched the html class in a list\n",
    "    Premier_league_22 = row_html_3.find_all(element , class_= html_class)\n",
    "    return(Premier_league_22)\n",
    "\n",
    "Premier_league_22= str(get_page(urlpage_2, 'tr', 'row-body'))"
   ]
  },
  {
   "cell_type": "code",
   "execution_count": null,
   "id": "f03ec322",
   "metadata": {},
   "outputs": [],
   "source": [
    "### Let's define a function to get the web page and subtract the part of the html codes we need (function n°3)\n",
    "\n",
    "def get_page(urlpage_3,element,html_class):\n",
    "    # Get page in html\n",
    "    req_4 = urllib3.PoolManager()\n",
    "    res_4 = req_4.request('GET', urlpage_3)\n",
    "    row_html_4 = BeautifulSoup(res_4.data, 'html.parser')\n",
    "    \n",
    "    # Return elements that matched the html class in a list\n",
    "    Premier_league_21 = row_html_4.find_all(element , class_= html_class)\n",
    "    return(Premier_league_21)\n",
    "\n",
    "Premier_league_21= str(get_page(urlpage_3, 'tr', 'row-body'))"
   ]
  },
  {
   "cell_type": "code",
   "execution_count": null,
   "id": "cea58656",
   "metadata": {},
   "outputs": [],
   "source": [
    "### Let's define a function to get the web page and subtract the part of the html codes we need (function n°4)\n",
    "\n",
    "def get_page(urlpage_4,element,html_class):\n",
    "    # Get page in html\n",
    "    req_5 = urllib3.PoolManager()\n",
    "    res_5 = req_5.request('GET', urlpage_4)\n",
    "    row_html_5 = BeautifulSoup(res_5.data, 'html.parser')\n",
    "    \n",
    "    # Return elements that matched the html class in a list\n",
    "    Premier_league_20 = row_html_5.find_all(element , class_= html_class)\n",
    "    return(Premier_league_20)\n",
    "\n",
    "Premier_league_20= str(get_page(urlpage_4, 'tr', 'row-body'))"
   ]
  }
 ],
 "metadata": {
  "kernelspec": {
   "display_name": "Python 3 (ipykernel)",
   "language": "python",
   "name": "python3"
  },
  "language_info": {
   "codemirror_mode": {
    "name": "ipython",
    "version": 3
   },
   "file_extension": ".py",
   "mimetype": "text/x-python",
   "name": "python",
   "nbconvert_exporter": "python",
   "pygments_lexer": "ipython3",
   "version": "3.9.13"
  }
 },
 "nbformat": 4,
 "nbformat_minor": 5
}
