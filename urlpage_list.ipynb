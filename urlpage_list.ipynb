{
 "cells": [
  {
   "cell_type": "code",
   "execution_count": null,
   "id": "a094dbb9",
   "metadata": {},
   "outputs": [],
   "source": [
    "### Let's define the urlpage of the teams statistics for the 2023 championship\n",
    "urlpage_1 = 'https://www.premierleague.com/tables'\n",
    "\n",
    "### Let's define the urlpage of the teams statistics for the 2022 championship\n",
    "urlpage_2 = 'https://fr.besoccer.com/competition/classement/premier/2022'\n",
    "\n",
    "### Let's define the urlpage of the teams statistics for the 2021 championship\n",
    "urlpage_3 = 'https://fr.besoccer.com/competition/classement/premier/2021'\n",
    "\n",
    "### Let's define the urlpage of the teams statistics for the 2020 championship\n",
    "urlpage_4 = 'https://fr.besoccer.com/competition/classement/premier/2020'\n",
    "\n",
    "### Let's define the urlpage of the teams results for the 2022 championship\n",
    "urlpage_5 =  \"https://fbref.com/fr/comps/9/2021-2022/calendrier/Calendrier-et-resultats-2021-2022-Premier-League\"\n",
    "\n",
    "### Let's define the urlpage of the teams results for the 2021 championship\n",
    "urlpage_6 = \"https://fbref.com/fr/comps/9/2020-2021/calendrier/Calendrier-et-resultats-2020-2021-Premier-League\"\n",
    "\n",
    "### Let's define the urlpage of the teams results for the 2020 championship\n",
    "urlpage_7 = \"https://fbref.com/fr/comps/9/2019-2020/calendrier/Calendrier-et-resultats-2019-2020-Premier-League\""
   ]
  }
 ],
 "metadata": {
  "kernelspec": {
   "display_name": "Python 3 (ipykernel)",
   "language": "python",
   "name": "python3"
  },
  "language_info": {
   "codemirror_mode": {
    "name": "ipython",
    "version": 3
   },
   "file_extension": ".py",
   "mimetype": "text/x-python",
   "name": "python",
   "nbconvert_exporter": "python",
   "pygments_lexer": "ipython3",
   "version": "3.9.13"
  }
 },
 "nbformat": 4,
 "nbformat_minor": 5
}
